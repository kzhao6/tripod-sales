{
  "nbformat": 4,
  "nbformat_minor": 0,
  "metadata": {
    "kernelspec": {
      "display_name": "Python 3",
      "language": "python",
      "name": "python3"
    },
    "language_info": {
      "codemirror_mode": {
        "name": "ipython",
        "version": 3
      },
      "file_extension": ".py",
      "mimetype": "text/x-python",
      "name": "python",
      "nbconvert_exporter": "python",
      "pygments_lexer": "ipython3",
      "version": "3.6.4"
    },
    "colab": {
      "name": "Costco_sales.ipynb",
      "provenance": []
    }
  },
  "cells": [
    {
      "cell_type": "code",
      "metadata": {
        "id": "f6QQXqggaePM"
      },
      "source": [
        "import os\n",
        "import numpy as np\n",
        "import pandas as pd"
      ],
      "execution_count": 1,
      "outputs": []
    },
    {
      "cell_type": "code",
      "metadata": {
        "id": "D9P7aEVcaePO"
      },
      "source": [
        "from tensorflow.python.keras.models import Sequential\n",
        "from tensorflow.python.keras.layers import Dense\n",
        "from tensorflow.python.keras.layers import Dropout\n",
        "from tensorflow.python.keras.layers import Activation\n",
        "from sklearn.model_selection import train_test_split\n",
        "from sklearn.metrics import r2_score"
      ],
      "execution_count": 2,
      "outputs": []
    },
    {
      "cell_type": "code",
      "metadata": {
        "colab": {
          "base_uri": "https://localhost:8080/",
          "height": 206
        },
        "id": "fm3zNkYIaePO",
        "outputId": "58cbabd5-3d3d-421c-d263-6104ff4725fe"
      },
      "source": [
        "monthly_sales = pd.read_csv('https://raw.githubusercontent.com/yuetongzhang/Costco_Yuetong-Zhang/main/Costco_Yuetong%20Zhang/Costco_Monthly%20Sales%20from%202012%20to%202021.csv')\n",
        "monthly_sales1=monthly_sales.drop(columns=['Growth Rate','Date'])\n",
        "monthly_sales1=monthly_sales1.dropna()\n",
        "monthly_sales_df=pd.DataFrame(monthly_sales1)\n",
        "monthly_sales_df = monthly_sales_df.rename(columns={'Net Sales (billions)': 'Total Sales'})\n",
        "monthly_sales_df = monthly_sales_df[['Total Sales', 'Year', 'Month']]\n",
        "#print(monthly_sales_df)\n",
        "monthly_sales_df.head()"
      ],
      "execution_count": 3,
      "outputs": [
        {
          "output_type": "execute_result",
          "data": {
            "text/html": [
              "<div>\n",
              "<style scoped>\n",
              "    .dataframe tbody tr th:only-of-type {\n",
              "        vertical-align: middle;\n",
              "    }\n",
              "\n",
              "    .dataframe tbody tr th {\n",
              "        vertical-align: top;\n",
              "    }\n",
              "\n",
              "    .dataframe thead th {\n",
              "        text-align: right;\n",
              "    }\n",
              "</style>\n",
              "<table border=\"1\" class=\"dataframe\">\n",
              "  <thead>\n",
              "    <tr style=\"text-align: right;\">\n",
              "      <th></th>\n",
              "      <th>Total Sales</th>\n",
              "      <th>Year</th>\n",
              "      <th>Month</th>\n",
              "    </tr>\n",
              "  </thead>\n",
              "  <tbody>\n",
              "    <tr>\n",
              "      <th>0</th>\n",
              "      <td>7.00</td>\n",
              "      <td>2012</td>\n",
              "      <td>1</td>\n",
              "    </tr>\n",
              "    <tr>\n",
              "      <th>2</th>\n",
              "      <td>9.13</td>\n",
              "      <td>2012</td>\n",
              "      <td>3</td>\n",
              "    </tr>\n",
              "    <tr>\n",
              "      <th>3</th>\n",
              "      <td>7.25</td>\n",
              "      <td>2012</td>\n",
              "      <td>4</td>\n",
              "    </tr>\n",
              "    <tr>\n",
              "      <th>4</th>\n",
              "      <td>7.67</td>\n",
              "      <td>2012</td>\n",
              "      <td>5</td>\n",
              "    </tr>\n",
              "    <tr>\n",
              "      <th>5</th>\n",
              "      <td>9.18</td>\n",
              "      <td>2012</td>\n",
              "      <td>6</td>\n",
              "    </tr>\n",
              "  </tbody>\n",
              "</table>\n",
              "</div>"
            ],
            "text/plain": [
              "   Total Sales  Year  Month\n",
              "0         7.00  2012      1\n",
              "2         9.13  2012      3\n",
              "3         7.25  2012      4\n",
              "4         7.67  2012      5\n",
              "5         9.18  2012      6"
            ]
          },
          "metadata": {
            "tags": []
          },
          "execution_count": 3
        }
      ]
    },
    {
      "cell_type": "code",
      "metadata": {
        "colab": {
          "base_uri": "https://localhost:8080/"
        },
        "id": "Uy_2s358oV3k",
        "outputId": "ad01db7c-f7ab-4145-b1cd-150f3dd75c62"
      },
      "source": [
        "real_rate=pd.read_csv('https://raw.githubusercontent.com/RamenMode/NeuralNetsSales/main/100-EmploymentRateReal.csv')\n",
        "df_real_rate=pd.DataFrame(real_rate)\n",
        "df_real_rate.head()\n",
        "irate= df_real_rate.iloc[:,3]\n",
        "monthly_sales_df['Inflation Rate']=irate\n",
        "print(monthly_sales_df)"
      ],
      "execution_count": 4,
      "outputs": [
        {
          "output_type": "stream",
          "text": [
            "     Total Sales  Year  Month  Inflation Rate\n",
            "0           7.00  2012      1             2.9\n",
            "2           9.13  2012      3             2.3\n",
            "3           7.25  2012      4             1.7\n",
            "4           7.67  2012      5             1.7\n",
            "5           9.18  2012      6             1.4\n",
            "..           ...   ...    ...             ...\n",
            "109        14.05  2021      2             2.6\n",
            "110        18.21  2021      3             4.2\n",
            "111        15.21  2021      4             5.0\n",
            "112        15.59  2021      5             5.4\n",
            "113        18.92  2021      6             NaN\n",
            "\n",
            "[113 rows x 4 columns]\n"
          ],
          "name": "stdout"
        }
      ]
    },
    {
      "cell_type": "code",
      "metadata": {
        "colab": {
          "base_uri": "https://localhost:8080/"
        },
        "id": "umi68KZlMe3X",
        "outputId": "c3d78ee4-b882-4b59-f396-afba87ea3d83"
      },
      "source": [
        "len(monthly_sales_df)"
      ],
      "execution_count": 5,
      "outputs": [
        {
          "output_type": "execute_result",
          "data": {
            "text/plain": [
              "113"
            ]
          },
          "metadata": {
            "tags": []
          },
          "execution_count": 5
        }
      ]
    },
    {
      "cell_type": "code",
      "metadata": {
        "id": "ZOgG1lyxaePO"
      },
      "source": [
        "data_2020 = monthly_sales_df.loc[monthly_sales_df['Year'] == 2020]\n",
        "Y_2020 = data_2020['Total Sales']\n",
        "X_2020 = data_2020[['Month','Year','Inflation Rate']]"
      ],
      "execution_count": 6,
      "outputs": []
    },
    {
      "cell_type": "code",
      "metadata": {
        "id": "RmlxSNAEaePP"
      },
      "source": [
        "data_before = monthly_sales_df.loc[monthly_sales_df['Year'] < 2020]\n",
        "Y_before = data_before['Total Sales']\n",
        "X_before = data_before[['Month','Year','Inflation Rate']]"
      ],
      "execution_count": 7,
      "outputs": []
    },
    {
      "cell_type": "code",
      "metadata": {
        "id": "55bStbiFaePP"
      },
      "source": [
        "XTrain, XTest, YTrain, YTest = train_test_split(X_before, Y_before, test_size = 0.2, shuffle = True)\n",
        "#XTrain = X_before\n",
        "#YTrain = Y_before\n",
        "\n",
        "model0 = Sequential()\n",
        "model0.add(Dense(450, activation = 'relu', input_dim=3))\n",
        "model0.add(Dense(200, activation = 'relu'))\n",
        "model0.add(Dropout(0.1))\n",
        "model0.add(Dense(100, activation = 'relu'))\n",
        "model0.add(Dropout(0.2))\n",
        "model0.add(Dense(1, activation = 'linear'))\n",
        "model0.compile(optimizer='adam', loss='mean_squared_error')"
      ],
      "execution_count": 8,
      "outputs": []
    },
    {
      "cell_type": "code",
      "metadata": {
        "id": "r-X9xMTPB_T3"
      },
      "source": [
        "loss30=0\n",
        "loss2020=0\n",
        "for i in range(30):\n",
        "  model0.fit(XTrain, YTrain, epochs=100, batch_size=128)\n",
        "  loss1 = model0.evaluate(XTest, YTest)\n",
        "  loss2 = model0.evaluate(X_2020, Y_2020)\n",
        "  loss30+=loss1\n",
        "  loss2020+=loss2\n",
        "  \n",
        "  \n",
        "  "
      ],
      "execution_count": null,
      "outputs": []
    },
    {
      "cell_type": "code",
      "metadata": {
        "colab": {
          "base_uri": "https://localhost:8080/"
        },
        "id": "a1p-ok5uC_vi",
        "outputId": "f352d2d4-72aa-4632-99a8-029a736c0f52"
      },
      "source": [
        "print(np.sqrt(loss30/30))"
      ],
      "execution_count": 10,
      "outputs": [
        {
          "output_type": "stream",
          "text": [
            "2.5918146197495653\n"
          ],
          "name": "stdout"
        }
      ]
    },
    {
      "cell_type": "code",
      "metadata": {
        "colab": {
          "base_uri": "https://localhost:8080/"
        },
        "id": "aDaag6s0aePP",
        "outputId": "749fa6cf-2037-41d5-c355-1230e417bbe9"
      },
      "source": [
        "#loss = model0.evaluate(XTest, YTest)\n",
        "print(np.sqrt(loss30/30))\n",
        "print(monthly_sales_df['Total Sales'].std())\n",
        "predict_2020 = model0.predict(X_2020)\n",
        "r2_2020 = r2_score(Y_2020, predict_2020)"
      ],
      "execution_count": 13,
      "outputs": [
        {
          "output_type": "stream",
          "text": [
            "2.5918146197495653\n",
            "2.7057365488546443\n"
          ],
          "name": "stdout"
        }
      ]
    },
    {
      "cell_type": "code",
      "metadata": {
        "colab": {
          "base_uri": "https://localhost:8080/"
        },
        "id": "MUG5u-lulRuv",
        "outputId": "d26008d2-a947-4a9d-b53d-7a541c64696a"
      },
      "source": [
        "XTest = X_2020\n",
        "YTest = Y_2020\n",
        "#loss2020 = model0.evaluate(XTest, YTest)\n",
        "print(np.sqrt(loss2020/30))\n",
        "print(monthly_sales_df['Total Sales'].std())"
      ],
      "execution_count": 15,
      "outputs": [
        {
          "output_type": "stream",
          "text": [
            "5.670230685278303\n",
            "2.7057365488546443\n"
          ],
          "name": "stdout"
        }
      ]
    },
    {
      "cell_type": "code",
      "metadata": {
        "id": "u9rIp9YraePQ"
      },
      "source": [
        "data_2021 = monthly_sales_df.loc[monthly_sales_df['Year'] == 2021]\n",
        "Y_2021 = data_2021['Net Sales (billions)']\n",
        "X_2021 = data_2021[['Month','Year']]"
      ],
      "execution_count": null,
      "outputs": []
    }
  ]
}