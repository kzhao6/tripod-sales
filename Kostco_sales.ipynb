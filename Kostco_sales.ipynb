{
  "nbformat": 4,
  "nbformat_minor": 0,
  "metadata": {
    "colab": {
      "name": "Kostco_sales.ipynb",
      "provenance": [],
      "collapsed_sections": []
    },
    "kernelspec": {
      "display_name": "Python 3",
      "language": "python",
      "name": "python3"
    },
    "language_info": {
      "codemirror_mode": {
        "name": "ipython",
        "version": 3
      },
      "file_extension": ".py",
      "mimetype": "text/x-python",
      "name": "python",
      "nbconvert_exporter": "python",
      "pygments_lexer": "ipython3",
      "version": "3.6.4"
    }
  },
  "cells": [
    {
      "cell_type": "code",
      "metadata": {
        "id": "f6QQXqggaePM"
      },
      "source": [
        "import os\n",
        "import numpy as np\n",
        "import pandas as pd"
      ],
      "execution_count": null,
      "outputs": []
    },
    {
      "cell_type": "code",
      "metadata": {
        "id": "D9P7aEVcaePO"
      },
      "source": [
        "from tensorflow.python.keras.models import Sequential\n",
        "from tensorflow.python.keras.layers import Dense\n",
        "from tensorflow.python.keras.layers import Dropout\n",
        "from tensorflow.python.keras.layers import Activation\n",
        "from sklearn.model_selection import train_test_split\n",
        "from sklearn.metrics import r2_score"
      ],
      "execution_count": null,
      "outputs": []
    },
    {
      "cell_type": "code",
      "metadata": {
        "colab": {
          "base_uri": "https://localhost:8080/",
          "height": 204
        },
        "id": "fm3zNkYIaePO",
        "outputId": "3c1a2724-9eae-45bb-c720-0d824ad7bf69"
      },
      "source": [
        "monthly_sales = pd.read_csv('https://raw.githubusercontent.com/yuetongzhang/Costco_Yuetong-Zhang/main/Costco_Yuetong%20Zhang/Costco_Monthly%20Sales%20from%202012%20to%202021.csv')\n",
        "monthly_sales1=monthly_sales.drop(columns=['Growth Rate','Date'])\n",
        "monthly_sales1=monthly_sales1.dropna()\n",
        "monthly_sales_df=pd.DataFrame(monthly_sales1)\n",
        "monthly_sales_df = monthly_sales_df.rename(columns={'Net Sales (billions)': 'Total Sales'})\n",
        "monthly_sales_df = monthly_sales_df[['Total Sales', 'Year', 'Month']]\n",
        "monthly_sales_df.head()"
      ],
      "execution_count": null,
      "outputs": [
        {
          "output_type": "execute_result",
          "data": {
            "text/html": [
              "<div>\n",
              "<style scoped>\n",
              "    .dataframe tbody tr th:only-of-type {\n",
              "        vertical-align: middle;\n",
              "    }\n",
              "\n",
              "    .dataframe tbody tr th {\n",
              "        vertical-align: top;\n",
              "    }\n",
              "\n",
              "    .dataframe thead th {\n",
              "        text-align: right;\n",
              "    }\n",
              "</style>\n",
              "<table border=\"1\" class=\"dataframe\">\n",
              "  <thead>\n",
              "    <tr style=\"text-align: right;\">\n",
              "      <th></th>\n",
              "      <th>Total Sales</th>\n",
              "      <th>Year</th>\n",
              "      <th>Month</th>\n",
              "    </tr>\n",
              "  </thead>\n",
              "  <tbody>\n",
              "    <tr>\n",
              "      <th>0</th>\n",
              "      <td>7.00</td>\n",
              "      <td>2012</td>\n",
              "      <td>1</td>\n",
              "    </tr>\n",
              "    <tr>\n",
              "      <th>2</th>\n",
              "      <td>9.13</td>\n",
              "      <td>2012</td>\n",
              "      <td>3</td>\n",
              "    </tr>\n",
              "    <tr>\n",
              "      <th>3</th>\n",
              "      <td>7.25</td>\n",
              "      <td>2012</td>\n",
              "      <td>4</td>\n",
              "    </tr>\n",
              "    <tr>\n",
              "      <th>4</th>\n",
              "      <td>7.67</td>\n",
              "      <td>2012</td>\n",
              "      <td>5</td>\n",
              "    </tr>\n",
              "    <tr>\n",
              "      <th>5</th>\n",
              "      <td>9.18</td>\n",
              "      <td>2012</td>\n",
              "      <td>6</td>\n",
              "    </tr>\n",
              "  </tbody>\n",
              "</table>\n",
              "</div>"
            ],
            "text/plain": [
              "   Total Sales  Year  Month\n",
              "0         7.00  2012      1\n",
              "2         9.13  2012      3\n",
              "3         7.25  2012      4\n",
              "4         7.67  2012      5\n",
              "5         9.18  2012      6"
            ]
          },
          "metadata": {},
          "execution_count": 3
        }
      ]
    },
    {
      "cell_type": "code",
      "metadata": {
        "colab": {
          "base_uri": "https://localhost:8080/",
          "height": 204
        },
        "id": "gexaast2zwfe",
        "outputId": "6495e692-e1be-4d42-bccc-ad12b057719d"
      },
      "source": [
        "url='https://raw.githubusercontent.com/kzhao6/tripods-sales/main/Boarded_Passengers%3ACar_Sale.csv'\n",
        "flyers = pd.read_csv(url)\n",
        "#flyers = pd.read_csv('https://raw.githubusercontent.com/kzhao6/tripods-sales/main/Boarded_Passengers_since_2003_-_Copy-3.csv')\n",
        "dom_flyers = flyers.drop(columns=['INTERNATIONAL','TOTAL'])\n",
        "dom_flyers=dom_flyers.dropna()\n",
        "dom_flyers_df=pd.DataFrame(dom_flyers)\n",
        "#dom_flyers_df = monthly_sales_df.rename(columns={'Net Sales (billions)': 'Total Sales'})\n",
        "monthly_sales_df = monthly_sales_df[['Total Sales', 'Year', 'Month']]\n",
        "dom_flyers_df.head()"
      ],
      "execution_count": null,
      "outputs": [
        {
          "output_type": "execute_result",
          "data": {
            "text/html": [
              "<div>\n",
              "<style scoped>\n",
              "    .dataframe tbody tr th:only-of-type {\n",
              "        vertical-align: middle;\n",
              "    }\n",
              "\n",
              "    .dataframe tbody tr th {\n",
              "        vertical-align: top;\n",
              "    }\n",
              "\n",
              "    .dataframe thead th {\n",
              "        text-align: right;\n",
              "    }\n",
              "</style>\n",
              "<table border=\"1\" class=\"dataframe\">\n",
              "  <thead>\n",
              "    <tr style=\"text-align: right;\">\n",
              "      <th></th>\n",
              "      <th>Year</th>\n",
              "      <th>Month</th>\n",
              "      <th>DOMESTIC</th>\n",
              "      <th>New</th>\n",
              "      <th>Used</th>\n",
              "      <th>Total Sales New</th>\n",
              "      <th>Total Sales Used</th>\n",
              "    </tr>\n",
              "  </thead>\n",
              "  <tbody>\n",
              "    <tr>\n",
              "      <th>0</th>\n",
              "      <td>2012</td>\n",
              "      <td>3</td>\n",
              "      <td>38479741.0</td>\n",
              "      <td>28280.0</td>\n",
              "      <td>62426.0</td>\n",
              "      <td>790798381.0</td>\n",
              "      <td>513936240.0</td>\n",
              "    </tr>\n",
              "    <tr>\n",
              "      <th>1</th>\n",
              "      <td>2012</td>\n",
              "      <td>4</td>\n",
              "      <td>36956112.0</td>\n",
              "      <td>27467.0</td>\n",
              "      <td>56913.0</td>\n",
              "      <td>766243639.0</td>\n",
              "      <td>493881213.0</td>\n",
              "    </tr>\n",
              "    <tr>\n",
              "      <th>2</th>\n",
              "      <td>2012</td>\n",
              "      <td>5</td>\n",
              "      <td>38245610.0</td>\n",
              "      <td>29390.0</td>\n",
              "      <td>55096.0</td>\n",
              "      <td>822158205.0</td>\n",
              "      <td>489914146.0</td>\n",
              "    </tr>\n",
              "    <tr>\n",
              "      <th>3</th>\n",
              "      <td>2012</td>\n",
              "      <td>6</td>\n",
              "      <td>39823763.0</td>\n",
              "      <td>29662.0</td>\n",
              "      <td>53148.0</td>\n",
              "      <td>847168622.0</td>\n",
              "      <td>487154088.0</td>\n",
              "    </tr>\n",
              "    <tr>\n",
              "      <th>4</th>\n",
              "      <td>2012</td>\n",
              "      <td>7</td>\n",
              "      <td>41112651.0</td>\n",
              "      <td>26593.0</td>\n",
              "      <td>52146.0</td>\n",
              "      <td>791818346.0</td>\n",
              "      <td>468241971.0</td>\n",
              "    </tr>\n",
              "  </tbody>\n",
              "</table>\n",
              "</div>"
            ],
            "text/plain": [
              "   Year  Month    DOMESTIC      New     Used  Total Sales New  Total Sales Used\n",
              "0  2012      3  38479741.0  28280.0  62426.0      790798381.0       513936240.0\n",
              "1  2012      4  36956112.0  27467.0  56913.0      766243639.0       493881213.0\n",
              "2  2012      5  38245610.0  29390.0  55096.0      822158205.0       489914146.0\n",
              "3  2012      6  39823763.0  29662.0  53148.0      847168622.0       487154088.0\n",
              "4  2012      7  41112651.0  26593.0  52146.0      791818346.0       468241971.0"
            ]
          },
          "metadata": {},
          "execution_count": 4
        }
      ]
    },
    {
      "cell_type": "code",
      "metadata": {
        "id": "nvXqpwG034qA"
      },
      "source": [
        "k=dom_flyers_df"
      ],
      "execution_count": null,
      "outputs": []
    },
    {
      "cell_type": "code",
      "metadata": {
        "colab": {
          "base_uri": "https://localhost:8080/"
        },
        "id": "Uy_2s358oV3k",
        "outputId": "34d886e5-43e7-47d0-9107-0e07b72207df"
      },
      "source": [
        "real_rate=pd.read_csv('https://raw.githubusercontent.com/RamenMode/NeuralNetsSales/main/100-EmploymentRateReal.csv')\n",
        "df_real_rate=pd.DataFrame(real_rate)\n",
        "df_real_rate.head()\n",
        "irate= df_real_rate.iloc[:,3]\n",
        "monthly_sales_df['Inflation Rate']=irate\n",
        "print(monthly_sales_df)"
      ],
      "execution_count": null,
      "outputs": [
        {
          "output_type": "stream",
          "name": "stdout",
          "text": [
            "     Total Sales  Year  Month  Inflation Rate\n",
            "0           7.00  2012      1             2.9\n",
            "2           9.13  2012      3             2.3\n",
            "3           7.25  2012      4             1.7\n",
            "4           7.67  2012      5             1.7\n",
            "5           9.18  2012      6             1.4\n",
            "..           ...   ...    ...             ...\n",
            "109        14.05  2021      2             2.6\n",
            "110        18.21  2021      3             4.2\n",
            "111        15.21  2021      4             5.0\n",
            "112        15.59  2021      5             5.4\n",
            "113        18.92  2021      6             NaN\n",
            "\n",
            "[113 rows x 4 columns]\n"
          ]
        }
      ]
    },
    {
      "cell_type": "code",
      "metadata": {
        "colab": {
          "base_uri": "https://localhost:8080/"
        },
        "id": "AqZ2_c2fboqO",
        "outputId": "dccd48bd-871b-40ff-ebdd-e81dbb109303"
      },
      "source": [
        "cpi= pd.read_csv('https://raw.githubusercontent.com/kzhao6/tripods-sales/main/historical_US_CPI.csv')\n",
        "df_cpi = pd.DataFrame(cpi)\n",
        "df_cpi.head()\n",
        "cpi_value = df_cpi.iloc[:,1]\n",
        "k['CPI']=cpi_value\n",
        "print(cpi_value)"
      ],
      "execution_count": null,
      "outputs": [
        {
          "output_type": "stream",
          "name": "stdout",
          "text": [
            "0      228.807\n",
            "1      229.187\n",
            "2      228.713\n",
            "3      228.524\n",
            "4      228.590\n",
            "        ...   \n",
            "108    264.793\n",
            "109    266.832\n",
            "110    268.551\n",
            "111    270.981\n",
            "112    272.265\n",
            "Name: Value, Length: 113, dtype: float64\n"
          ]
        }
      ]
    },
    {
      "cell_type": "code",
      "metadata": {
        "id": "cqi5-xtFv0ty"
      },
      "source": [
        "Income_tax=pd.read_csv('https://raw.githubusercontent.com/kzhao6/tripods-sales/main/US_Income_Tax_Rate.csv')\n",
        "df_tax=pd.DataFrame(Income_tax)\n",
        "df_tax.head()\n",
        "tax = df_tax.iloc[:,1]\n",
        "monthly_sales_df['Income Tax']=tax"
      ],
      "execution_count": null,
      "outputs": []
    },
    {
      "cell_type": "code",
      "metadata": {
        "id": "eJTaaZ4cVujE"
      },
      "source": [
        "no_employment= pd.read_csv('https://raw.githubusercontent.com/RamenMode/NeuralNetsSales/main/100.csv')\n",
        "df_no_employment = pd.DataFrame(no_employment)\n",
        "df_no_employment.head()\n",
        "no_job = df_no_employment.iloc[:,7]\n",
        "monthly_sales_df['100-Unemployment']=no_job\n"
      ],
      "execution_count": null,
      "outputs": []
    },
    {
      "cell_type": "code",
      "metadata": {
        "id": "uuPt_uhxqwTC"
      },
      "source": [
        "def remove_outliers(df, name, sd):\n",
        "    drop_rows = df.index[(np.abs(df[name] - df[name].mean())\n",
        "                          >= (sd * df[name].std()))]\n",
        "    df.drop(drop_rows, axis=0, inplace=True)"
      ],
      "execution_count": null,
      "outputs": []
    },
    {
      "cell_type": "code",
      "metadata": {
        "id": "Vm51yYWKq3nL"
      },
      "source": [
        "remove_outliers(monthly_sales_df,'CPI',monthly_sales_df['CPI'].std())"
      ],
      "execution_count": null,
      "outputs": []
    },
    {
      "cell_type": "code",
      "metadata": {
        "colab": {
          "base_uri": "https://localhost:8080/"
        },
        "id": "umi68KZlMe3X",
        "outputId": "26987a04-2f0b-425b-bf1b-0e696d09eaec"
      },
      "source": [
        "len(monthly_sales_df)\n",
        "len(cpi_value)\n",
        "len(tax)\n",
        "len(no_job)"
      ],
      "execution_count": null,
      "outputs": [
        {
          "output_type": "execute_result",
          "data": {
            "text/plain": [
              "883"
            ]
          },
          "metadata": {},
          "execution_count": 10
        }
      ]
    },
    {
      "cell_type": "code",
      "metadata": {
        "id": "ZOgG1lyxaePO"
      },
      "source": [
        "ycol='Used'\n",
        "data_2020 = k.loc[k['Year'] == 2020]\n",
        "Y_2020 = data_2020[ycol]\n",
        "X_2020 = data_2020[['Month','Year','CPI']]"
      ],
      "execution_count": null,
      "outputs": []
    },
    {
      "cell_type": "code",
      "metadata": {
        "id": "RmlxSNAEaePP"
      },
      "source": [
        "data_before = k.loc[k['Year'] < 2020]\n",
        "Y_before = data_before[ycol]\n",
        "X_before = data_before[['Month','Year','CPI']]"
      ],
      "execution_count": null,
      "outputs": []
    },
    {
      "cell_type": "code",
      "metadata": {
        "id": "55bStbiFaePP"
      },
      "source": [
        "XTrain, XTest, YTrain, YTest = train_test_split(X_before, Y_before, test_size = 0.2, shuffle = True)\n",
        "#XTrain = X_before\n",
        "#YTrain = Y_before\n",
        "\n",
        "model0 = Sequential()\n",
        "model0.add(Dense(450, activation = 'relu', input_dim = 3))\n",
        "model0.add(Dense(200, activation = 'relu'))\n",
        "model0.add(Dropout(0.1))\n",
        "model0.add(Dense(100, activation = 'relu'))\n",
        "model0.add(Dropout(0.2))\n",
        "model0.add(Dense(1, activation = 'linear'))\n",
        "model0.compile(optimizer='adam', loss='mean_squared_error')"
      ],
      "execution_count": null,
      "outputs": []
    },
    {
      "cell_type": "code",
      "metadata": {
        "id": "r-X9xMTPB_T3"
      },
      "source": [
        "loss30=0\n",
        "loss2020=0\n",
        "for i in range(30):\n",
        "  model0.fit(XTrain, YTrain, epochs=100, batch_size=100)\n",
        "  loss1 = model0.evaluate(XTest, YTest)\n",
        "  loss2 = model0.evaluate(X_2020, Y_2020)\n",
        "  loss30+=loss1\n",
        "  loss2020+=loss2\n",
        "  \n",
        "  \n",
        "  "
      ],
      "execution_count": null,
      "outputs": []
    },
    {
      "cell_type": "code",
      "metadata": {
        "colab": {
          "base_uri": "https://localhost:8080/"
        },
        "id": "a1p-ok5uC_vi",
        "outputId": "b3eca156-4e72-4391-ef4a-07db766e954a"
      },
      "source": [
        "print(np.sqrt(loss30/30))"
      ],
      "execution_count": null,
      "outputs": [
        {
          "output_type": "stream",
          "name": "stdout",
          "text": [
            "8094.905649028076\n"
          ]
        }
      ]
    },
    {
      "cell_type": "code",
      "metadata": {
        "colab": {
          "base_uri": "https://localhost:8080/"
        },
        "id": "aDaag6s0aePP",
        "outputId": "43f57aa2-f4e7-4134-8eb5-9dfc9b86ce4c"
      },
      "source": [
        "#loss = model0.evaluate(XTest, YTest)\n",
        "print(np.sqrt(loss30/30),'loss before 2020')\n",
        "print(k[ycol].std(),'std of',ycol)\n",
        "predict_2020 = model0.predict(X_2020)\n",
        "r2_2020 = r2_score(Y_2020, predict_2020)"
      ],
      "execution_count": null,
      "outputs": [
        {
          "output_type": "stream",
          "name": "stdout",
          "text": [
            "8094.905649028076 loss before 2020\n",
            "8071.138819271415 std of Used\n"
          ]
        }
      ]
    },
    {
      "cell_type": "code",
      "metadata": {
        "colab": {
          "base_uri": "https://localhost:8080/"
        },
        "id": "MUG5u-lulRuv",
        "outputId": "5ff69cb4-2086-4ca1-d553-d904da8df4b5"
      },
      "source": [
        "XTest = X_2020\n",
        "YTest = Y_2020\n",
        "#loss2020 = model0.evaluate(XTest, YTest)\n",
        "print(np.sqrt(loss2020/30),'loss 2020')\n",
        "print(k[ycol].std(),'std of',ycol)"
      ],
      "execution_count": null,
      "outputs": [
        {
          "output_type": "stream",
          "name": "stdout",
          "text": [
            "12840.43845564992 loss 2020\n",
            "8071.138819271415 std of Used\n"
          ]
        }
      ]
    }
  ]
}